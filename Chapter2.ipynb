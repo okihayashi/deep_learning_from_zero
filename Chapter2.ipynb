{
 "cells": [
  {
   "cell_type": "code",
   "execution_count": 11,
   "metadata": {},
   "outputs": [
    {
     "data": {
      "text/plain": [
       "1"
      ]
     },
     "execution_count": 11,
     "metadata": {},
     "output_type": "execute_result"
    }
   ],
   "source": [
    "import numpy as np\n",
    "\n",
    "class Gate:\n",
    "    def __init__(self, w1, w2, b):\n",
    "        self.w1 = w1\n",
    "        self.w2 = w2\n",
    "        self.b = b\n",
    "    \n",
    "    def gate(self, x1, x2):\n",
    "        x = np.array([x1, x2])\n",
    "        w = np.array([self.w1, self.w2])\n",
    "        b = self.b\n",
    "        \n",
    "        tmp = np.sum(w*x) + b\n",
    "        \n",
    "        if tmp <= 0:\n",
    "            return 0\n",
    "        else:\n",
    "            return 1\n",
    "        \n",
    "        \n",
    "AND = Gate(0.5, 0.5, -0.7)\n",
    "OR = Gate(0.5, 0.5, -0.2)\n",
    "NAND = Gate(-0.5, -0.5, 0.7)\n",
    "\n",
    "AND.gate(1,1)"
   ]
  },
  {
   "cell_type": "code",
   "execution_count": 12,
   "metadata": {},
   "outputs": [
    {
     "data": {
      "text/plain": [
       "0"
      ]
     },
     "execution_count": 12,
     "metadata": {},
     "output_type": "execute_result"
    }
   ],
   "source": [
    "def xor(x1, x2):\n",
    "    s1 = NAND.gate(x1, x2)\n",
    "    s2 = OR.gate(x1, x2)\n",
    "    y = AND.gate(s1, s2)\n",
    "    return y\n",
    "\n",
    "xor(0, 0)"
   ]
  }
 ],
 "metadata": {
  "kernelspec": {
   "display_name": "Python 3",
   "language": "python",
   "name": "python3"
  },
  "language_info": {
   "codemirror_mode": {
    "name": "ipython",
    "version": 3
   },
   "file_extension": ".py",
   "mimetype": "text/x-python",
   "name": "python",
   "nbconvert_exporter": "python",
   "pygments_lexer": "ipython3",
   "version": "3.6.5"
  }
 },
 "nbformat": 4,
 "nbformat_minor": 2
}
