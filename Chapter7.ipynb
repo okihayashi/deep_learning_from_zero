{
 "cells": [
  {
   "cell_type": "code",
   "execution_count": 4,
   "metadata": {},
   "outputs": [
    {
     "name": "stdout",
     "output_type": "stream",
     "text": [
      "(9, 75)\n",
      "(90, 75)\n"
     ]
    }
   ],
   "source": [
    "import sys, os\n",
    "sys.path.append(os.pardir)\n",
    "from common.util import im2col\n",
    "import numpy as np\n",
    "\n",
    "x1 = np.random.rand(1, 3, 7, 7)  # batch_size, channel_size, height, width\n",
    "coll = im2col(x1, 5, 5, stride=1, pad=0)\n",
    "print(coll.shape)\n",
    "\n",
    "x2 = np.random.rand(10, 3, 7, 7)  # batch_size, channel_size, height, width\n",
    "coll = im2col(x2, 5, 5, stride=1, pad=0)\n",
    "print(coll.shape)\n"
   ]
  }
 ],
 "metadata": {
  "kernelspec": {
   "display_name": "Python 3",
   "language": "python",
   "name": "python3"
  },
  "language_info": {
   "codemirror_mode": {
    "name": "ipython",
    "version": 3
   },
   "file_extension": ".py",
   "mimetype": "text/x-python",
   "name": "python",
   "nbconvert_exporter": "python",
   "pygments_lexer": "ipython3",
   "version": "3.6.5"
  }
 },
 "nbformat": 4,
 "nbformat_minor": 2
}
